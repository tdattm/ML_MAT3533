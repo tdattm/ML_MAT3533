{
 "cells": [
  {
   "cell_type": "code",
   "execution_count": 5,
   "metadata": {},
   "outputs": [],
   "source": [
    "from __future__ import print_function\n",
    "from sklearn.naive_bayes import MultinomialNB\n",
    "from sklearn.naive_bayes import BernoulliNB\n",
    "\n",
    "import numpy as np"
   ]
  },
  {
   "cell_type": "code",
   "execution_count": 2,
   "metadata": {},
   "outputs": [],
   "source": [
    "# train data\n",
    "d1 = [2, 1, 1, 0, 0, 0, 0, 0, 0]\n",
    "d2 = [1, 1, 0, 1, 1, 0, 0, 0, 0]\n",
    "d3 = [0, 1, 0, 0, 1, 1, 0, 0, 0]\n",
    "d4 = [0, 1, 0, 0, 0, 0, 1, 1, 1]\n",
    "\n",
    "train_data = np.array([d1, d2, d3, d4])\n",
    "label = np.array(['B', 'B', 'B', 'N']) # 0 - B, 1 - N\n",
    "\n",
    "# test data\n",
    "d5 = np.array([[1, 0, 0, 1, 0, 0, 0, 1, 0]])\n",
    "d6 = np.array([[0, 1, 0, 0, 0, 0, 0, 1, 1]])"
   ]
  },
  {
   "cell_type": "code",
   "execution_count": 4,
   "metadata": {},
   "outputs": [
    {
     "name": "stdout",
     "output_type": "stream",
     "text": [
      "Predicting class of d5: B\n",
      "Predicting class of d6: N\n",
      "Probability of d5 in each class: [[0.76719823 0.23280177]]\n",
      "Probability of d6 in each class: [[0.29175335 0.70824665]]\n"
     ]
    }
   ],
   "source": [
    "## call MultinomialNB\n",
    "clf = MultinomialNB()\n",
    "# training\n",
    "clf.fit(train_data, label)\n",
    "# test\n",
    "print('Predicting class of d5:', str(clf.predict(d5)[0]))\n",
    "print('Predicting class of d6:', str(clf.predict(d6)[0]))\n",
    "print('Probability of d5 in each class:', clf.predict_proba(d5))\n",
    "print('Probability of d6 in each class:', clf.predict_proba(d6))"
   ]
  },
  {
   "cell_type": "code",
   "execution_count": 6,
   "metadata": {},
   "outputs": [
    {
     "name": "stdout",
     "output_type": "stream",
     "text": [
      "Predicting class of d5: B\n",
      "Predicting class of d6: N\n",
      "Probability of d5 in each class: [[0.76554295 0.23445705]]\n",
      "Probability of d6 in each class: [[0.16948581 0.83051419]]\n"
     ]
    }
   ],
   "source": [
    "## call BernoulliNB\n",
    "clf = BernoulliNB()\n",
    "# training\n",
    "clf.fit(train_data, label)\n",
    "# test\n",
    "print('Predicting class of d5:', str(clf.predict(d5)[0]))\n",
    "print('Predicting class of d6:', str(clf.predict(d6)[0]))\n",
    "print('Probability of d5 in each class:', clf.predict_proba(d5))\n",
    "print('Probability of d6 in each class:', clf.predict_proba(d6))\n"
   ]
  }
 ],
 "metadata": {
  "kernelspec": {
   "display_name": "Python 3",
   "language": "python",
   "name": "python3"
  },
  "language_info": {
   "codemirror_mode": {
    "name": "ipython",
    "version": 3
   },
   "file_extension": ".py",
   "mimetype": "text/x-python",
   "name": "python",
   "nbconvert_exporter": "python",
   "pygments_lexer": "ipython3",
   "version": "3.13.1"
  }
 },
 "nbformat": 4,
 "nbformat_minor": 2
}
